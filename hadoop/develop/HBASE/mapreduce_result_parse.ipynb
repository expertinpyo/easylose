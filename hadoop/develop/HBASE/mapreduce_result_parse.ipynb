{
 "cells": [
  {
   "cell_type": "code",
   "execution_count": 2,
   "metadata": {},
   "outputs": [],
   "source": [
    "import csv\n"
   ]
  },
  {
   "cell_type": "code",
   "execution_count": 32,
   "metadata": {},
   "outputs": [],
   "source": [
    "with open(\"part-r-00000_parse.csv\", 'w', newline='')as outfile:\n",
    "    with open(\"part-r-00000\", \"r\") as infile:\n",
    "        for line in infile.readlines():            \n",
    "            tokens=line.split(\":\")\n",
    "            keys = tokens[0].split(\",\")\n",
    "            foods = tokens[1][0:-1]\n",
    "            foods = foods.split(\",    \")\n",
    "            keys_s = str(float(keys[0])) + \":\"+str(float(keys[1])) +\":\"+str(float(keys[2])) \n",
    "            foods_s=\"\"\n",
    "            for food in foods:\n",
    "                foods_s +=food+\",\"\n",
    "            foods_s = foods_s[:-1]\n",
    "            final_data = keys_s+\",\"+foods_s\n",
    "        \n",
    "            outfile.write(final_data)\n",
    "            outfile.write('\\n')\n",
    "            "
   ]
  },
  {
   "cell_type": "code",
   "execution_count": null,
   "metadata": {},
   "outputs": [],
   "source": []
  }
 ],
 "metadata": {
  "kernelspec": {
   "display_name": "Python 3.10.3 64-bit",
   "language": "python",
   "name": "python3"
  },
  "language_info": {
   "codemirror_mode": {
    "name": "ipython",
    "version": 3
   },
   "file_extension": ".py",
   "mimetype": "text/x-python",
   "name": "python",
   "nbconvert_exporter": "python",
   "pygments_lexer": "ipython3",
   "version": "3.10.3"
  },
  "orig_nbformat": 4,
  "vscode": {
   "interpreter": {
    "hash": "369f2c481f4da34e4445cda3fffd2e751bd1c4d706f27375911949ba6bb62e1c"
   }
  }
 },
 "nbformat": 4,
 "nbformat_minor": 2
}
